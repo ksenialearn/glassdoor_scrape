{
 "cells": [
  {
   "cell_type": "code",
   "execution_count": 137,
   "metadata": {},
   "outputs": [],
   "source": [
    "import requests\n",
    "from bs4 import BeautifulSoup\n",
    "import numpy as np"
   ]
  },
  {
   "cell_type": "code",
   "execution_count": 417,
   "metadata": {
    "collapsed": true
   },
   "outputs": [],
   "source": [
    "def parse_data(company):\n",
    "    \"\"\"\n",
    "    Parse company info from Glassdoor. Input: company name, type: string\n",
    "    \"\"\"\n",
    "    #Put data into the right format for query\n",
    "    words = company.split(' ')\n",
    "    company = '-'.join(words)\n",
    "    \n",
    "    #Parse page info\n",
    "    word_len = len(company)\n",
    "    page = requests.get(\"https://www.glassdoor.com/Reviews/\" + company + \"-reviews-SRCH_KE0,\" + str(word_len) + \".htm\",\n",
    "                        headers={'User-Agent': 'Mozilla/5.0'})\n",
    "    \n",
    "    #Convert into usable format\n",
    "    soup = BeautifulSoup(page.content, 'html.parser')\n",
    "    \n",
    "    #List of links\n",
    "    link = soup.find(\"a\", {\"class\": \"tightAll h2\"}, href=True)\n",
    "    \n",
    "    try:\n",
    "        #If we got a list of results\n",
    "        link = link['href']\n",
    "        #Go to company profile\n",
    "        company_page = requests.get(\"https://www.glassdoor.com\" + link,\n",
    "                            headers={'User-Agent': 'Mozilla/5.0'})\n",
    "        #Convert into usable format\n",
    "        company_info = BeautifulSoup(company_page.content, 'html.parser')\n",
    "        \n",
    "    except TypeError:\n",
    "        #If we got only one results (redirected to it directly)\n",
    "        company_info = soup\n",
    "    \n",
    "    #Company info to be further processed\n",
    "    info = company_info.find(\"body\", {\"class\": \"main\"}).text\n",
    "    \n",
    "    #This is Glassdoor's encoding for missing data it seems\n",
    "    if info.find(\"The Fun Ones\") > -1:\n",
    "        return \"not found\"\n",
    "    \n",
    "    return info\n",
    "    "
   ]
  },
  {
   "cell_type": "code",
   "execution_count": 292,
   "metadata": {},
   "outputs": [],
   "source": [
    "def employee_size(info):\n",
    "    \"\"\"\n",
    "    Extract size of employer based on the number of employees\n",
    "    \"\"\"\n",
    "    \n",
    "    #Find part of the text containing employee number\n",
    "    employees_info = info.find('\"employees\":')\n",
    "    #Options for sizes\n",
    "    emp_sizes = ['SMALL_TO_MEDIUM', 'MEDIUM_TO_LARGE', 'LARGE_TO_GIANT', 'UNKNOWN', 'MEDIUM', 'SMALL', 'LARGE', 'GIANT']\n",
    "    #Longer to ensure we capute the above\n",
    "    size = info[employees_info:employees_info+30]\n",
    "    \n",
    "    for count in emp_sizes:\n",
    "        count_ind = size.find(count)\n",
    "        #-1 if word not found\n",
    "        if count_ind > -1:\n",
    "            return count\n",
    "            break\n",
    "    #If nothing found\n",
    "    if count_ind == -1:\n",
    "        return \"not found\"\n",
    "        \n"
   ]
  },
  {
   "cell_type": "code",
   "execution_count": 368,
   "metadata": {
    "collapsed": true
   },
   "outputs": [],
   "source": [
    "def revenue_size(info):\n",
    "    \"\"\"\n",
    "    Extract revenue size of employer \n",
    "    \"\"\"\n",
    "    #Find part of the text containing employee number\n",
    "    revenue_info = info.find('\"annualRevenue\":')\n",
    "    #Options for sizes\n",
    "    revenue_sizes = [\"LESS_THAN_ONE_M\",\"ONE_TO_FIVE_M\",\"FIVE_TO_TEN_M\",\"TEN_TO_TWENTYFIVE_M\",\n",
    "                 \"TWENTYFIVE_TO_FIFTY_M\",\"FIFTY_TO_ONEHUNDRED_M\",\"ONEHUNDRED_TO_FIVEHUNDRED_M\",\n",
    "                 \"FIVEHUNDRED_M_TO_ONE_B\",\"ONE_TO_TWO_B\",\"TWO_TO_FIVE_B\",\"FIVE_TO_TEN_B\",\"MORE_THAN_TEN_B\",\"UNKNOWN\"]\n",
    "    #Longer to ensure we capute the above\n",
    "    size = info[revenue_info:revenue_info+50]\n",
    "    \n",
    "    for count in revenue_sizes:\n",
    "        count_ind = size.find(count)\n",
    "        #-1 if word not found\n",
    "        if count_ind > -1:\n",
    "            return count\n",
    "            break\n",
    "    #If nothing found\n",
    "    if count_ind ==-1:\n",
    "        return \"not found\"\n",
    "        "
   ]
  },
  {
   "cell_type": "code",
   "execution_count": 430,
   "metadata": {
    "collapsed": true
   },
   "outputs": [],
   "source": [
    "def obtain_info(company_list):\n",
    "    '''\n",
    "    Takes in a list of companies (strings) and returns a list of lists \n",
    "    in the form: [company, employee_size, revenue_size]\n",
    "    '''\n",
    "    if not isinstance(company_list, list):\n",
    "        print('Error: Input must be a list')\n",
    "        return None\n",
    "    out = []\n",
    "    for company in company_list:\n",
    "        print(\"Processing: \", company)\n",
    "        company = company.replace('inc','')\n",
    "        translate_table = str.maketrans(dict.fromkeys([',','.'],''))\n",
    "        company = company.translate(translate_table)\n",
    "        company_data = parse_data(company)\n",
    "        if company_data == \"not found\":\n",
    "            employee_count = \"not found\"\n",
    "            revenue = \"not found\"\n",
    "        else:\n",
    "            employee_count = employee_size(company_data)\n",
    "            revenue = revenue_size(company_data)\n",
    "        out.append([company, employee_count, revenue])\n",
    "        \n",
    "    return out"
   ]
  },
  {
   "cell_type": "markdown",
   "metadata": {},
   "source": [
    "#### Obtain results and write data into a csv"
   ]
  },
  {
   "cell_type": "code",
   "execution_count": 130,
   "metadata": {},
   "outputs": [],
   "source": [
    "data = pd.read_csv('distributors.csv', encoding = \"ISO-8859-1\")"
   ]
  },
  {
   "cell_type": "code",
   "execution_count": 395,
   "metadata": {},
   "outputs": [],
   "source": [
    "companies = sorted(list(set(data.Company)))"
   ]
  },
  {
   "cell_type": "code",
   "execution_count": 429,
   "metadata": {},
   "outputs": [],
   "source": [
    "results = obtain_info(companies)"
   ]
  },
  {
   "cell_type": "code",
   "execution_count": 432,
   "metadata": {},
   "outputs": [],
   "source": [
    "import csv\n",
    "\n",
    "with open('results.csv', 'w', newline='') as f:\n",
    "    writer = csv.writer(f)\n",
    "    writer.writerows(results)"
   ]
  }
 ],
 "metadata": {
  "kernelspec": {
   "display_name": "Python 3",
   "language": "python",
   "name": "python3"
  },
  "language_info": {
   "codemirror_mode": {
    "name": "ipython",
    "version": 3
   },
   "file_extension": ".py",
   "mimetype": "text/x-python",
   "name": "python",
   "nbconvert_exporter": "python",
   "pygments_lexer": "ipython3",
   "version": "3.6.5"
  }
 },
 "nbformat": 4,
 "nbformat_minor": 2
}
